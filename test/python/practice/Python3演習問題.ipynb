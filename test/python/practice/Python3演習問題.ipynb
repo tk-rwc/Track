{
 "cells": [
  {
   "cell_type": "markdown",
   "metadata": {},
   "source": [
    "問題URL:http://yay.cla.kobe-u.ac.jp/~jm/edu/2016/PB/python3/python3ex01.html"
   ]
  },
  {
   "cell_type": "markdown",
   "metadata": {},
   "source": [
    "### 練習01 計算する"
   ]
  },
  {
   "cell_type": "code",
   "execution_count": 1,
   "metadata": {},
   "outputs": [
    {
     "data": {
      "text/plain": [
       "7"
      ]
     },
     "execution_count": 1,
     "metadata": {},
     "output_type": "execute_result"
    }
   ],
   "source": [
    "5+2"
   ]
  },
  {
   "cell_type": "code",
   "execution_count": 2,
   "metadata": {},
   "outputs": [
    {
     "data": {
      "text/plain": [
       "3"
      ]
     },
     "execution_count": 2,
     "metadata": {},
     "output_type": "execute_result"
    }
   ],
   "source": [
    "5-2"
   ]
  },
  {
   "cell_type": "code",
   "execution_count": 3,
   "metadata": {},
   "outputs": [
    {
     "data": {
      "text/plain": [
       "10"
      ]
     },
     "execution_count": 3,
     "metadata": {},
     "output_type": "execute_result"
    }
   ],
   "source": [
    "5*2"
   ]
  },
  {
   "cell_type": "code",
   "execution_count": 9,
   "metadata": {},
   "outputs": [
    {
     "data": {
      "text/plain": [
       "2"
      ]
     },
     "execution_count": 9,
     "metadata": {},
     "output_type": "execute_result"
    }
   ],
   "source": [
    "5//2"
   ]
  },
  {
   "cell_type": "code",
   "execution_count": 7,
   "metadata": {},
   "outputs": [
    {
     "data": {
      "text/plain": [
       "1"
      ]
     },
     "execution_count": 7,
     "metadata": {},
     "output_type": "execute_result"
    }
   ],
   "source": [
    "5%2"
   ]
  },
  {
   "cell_type": "code",
   "execution_count": 8,
   "metadata": {},
   "outputs": [
    {
     "data": {
      "text/plain": [
       "2.5"
      ]
     },
     "execution_count": 8,
     "metadata": {},
     "output_type": "execute_result"
    }
   ],
   "source": [
    "5/2"
   ]
  },
  {
   "cell_type": "markdown",
   "metadata": {},
   "source": [
    "### 練習02 データ入力\n",
    "キーボードから英語と算数の成績を入力し、入力された得点とともに、得点の合計と平均を計算して表示するプログラムを作成せよ。"
   ]
  },
  {
   "cell_type": "code",
   "execution_count": 18,
   "metadata": {},
   "outputs": [
    {
     "name": "stdout",
     "output_type": "stream",
     "text": [
      "Input English score 80\n",
      "Input Math score 90\n"
     ]
    }
   ],
   "source": [
    "eng = int(input(\"Input English score \"))\n",
    "math = int(input(\"Input Math score \"))"
   ]
  },
  {
   "cell_type": "code",
   "execution_count": 19,
   "metadata": {},
   "outputs": [],
   "source": [
    "sums = eng+math\n",
    "ave = sums/2"
   ]
  },
  {
   "cell_type": "code",
   "execution_count": 25,
   "metadata": {},
   "outputs": [
    {
     "name": "stdout",
     "output_type": "stream",
     "text": [
      "English Score:80\n",
      "Math Score:90\n",
      "Sum:170\n",
      "Average:85.0\n"
     ]
    }
   ],
   "source": [
    "print(\"English Score\",eng,sep=\":\")  #sep = separtionの意味\n",
    "print(\"Math Score\",math,sep=\":\")\n",
    "print(\"Sum\",sums,sep=\":\")\n",
    "print(\"Average\",ave,sep=\":\")"
   ]
  },
  {
   "cell_type": "markdown",
   "metadata": {},
   "source": [
    "### 練習03 BMI(Body Mass Index) \n",
    "健康のために肥満度をチェックしてみましょう。身長と体重を入力してあなたの肥満度（BMI＝体重(kg)÷身長(m)の二乗）を計算するプログラムを作成し、計算結果を確かめてください。\n",
    "　判定基準が18.5未満→やせ、18.5〜25未満→標準、25〜30未満→肥満、30以上→高度肥満となっているようです。"
   ]
  },
  {
   "cell_type": "code",
   "execution_count": 29,
   "metadata": {},
   "outputs": [
    {
     "name": "stdout",
     "output_type": "stream",
     "text": [
      "Input height(cm) : 160\n",
      "Input weight(kg) : 45\n",
      "BMI =  17.578124999999996\n"
     ]
    }
   ],
   "source": [
    "Height = float(input(\"Input height(cm) : \"))\n",
    "Weight = float(input(\"Input weight(kg) : \"))\n",
    "\n",
    "bmi = Weight/(Height/100)**2\n",
    "\n",
    "print(\"BMI = \",bmi)"
   ]
  },
  {
   "cell_type": "markdown",
   "metadata": {},
   "source": [
    "### 練習04 時速秒速変換\n",
    "時速を秒速に直しましょう。時速をkm/hの単位で入力すると、秒速がm/sの単位で表示されるプログラムを書きなさい。"
   ]
  },
  {
   "cell_type": "code",
   "execution_count": 31,
   "metadata": {},
   "outputs": [
    {
     "name": "stdout",
     "output_type": "stream",
     "text": [
      "Input speed per hour(km/h) : 100\n",
      "Speed per second(m/s) = 27.77777777777778\n"
     ]
    }
   ],
   "source": [
    "kmh = float(input(\"Input speed per hour(km/h) : \"))\n",
    "ms = kmh*1000/3600\n",
    "print(\"Speed per second(m/s)\",ms,sep=\" = \") "
   ]
  },
  {
   "cell_type": "markdown",
   "metadata": {},
   "source": [
    "### 練習05 10進数2進数変換\n",
    "255以下の10進数を入力して、それを８桁の２進数で表示するプログラムを書きなさい。"
   ]
  },
  {
   "cell_type": "code",
   "execution_count": 41,
   "metadata": {},
   "outputs": [
    {
     "name": "stdout",
     "output_type": "stream",
     "text": [
      "Input number within 0-255 : 255\n",
      "11111111\n"
     ]
    }
   ],
   "source": [
    "num = int(input(\"Input number within 0-255 : \",))\n",
    "first = num\n",
    "\n",
    "d8 = num//2**7\n",
    "num = num%2**7\n",
    "\n",
    "d7 = num//2**6\n",
    "num = num%2**6\n",
    "\n",
    "d6 = num//2**5\n",
    "num = num%2**5\n",
    "\n",
    "d5 = num//2**4\n",
    "num = num%2**4\n",
    "\n",
    "d4 = num//2**3\n",
    "num = num%2**3\n",
    "\n",
    "d3 = num//2**2\n",
    "num = num%2**2\n",
    "\n",
    "d2 = num//2\n",
    "num = num%2\n",
    "\n",
    "binary = str(d8)+str(d7)+str(d6)+str(d5)+str(d4)+str(d3)+str(d2)+str(num)\n",
    "\n",
    "print(binary)"
   ]
  },
  {
   "cell_type": "markdown",
   "metadata": {},
   "source": [
    "### 練習06 金種計算\n",
    "金額を入力するとその金額を出来るだけ少ない枚数の貨幣を使って支払えるように貨幣の枚数を数えるプログラムを書きなさい。貨幣は、{１万円札、五千円札、千円札、五百円玉、百円玉、五十円玉、十円玉、五円玉、一円玉}とする（余り使わないので２千円札は除く）"
   ]
  },
  {
   "cell_type": "code",
   "execution_count": 226,
   "metadata": {},
   "outputs": [
    {
     "name": "stdout",
     "output_type": "stream",
     "text": [
      "Input amount : 8458449\n",
      "1万円札 845 枚\n",
      "5千円札 1 枚\n",
      "千円札 3 枚\n",
      "5百円玉 0 枚\n",
      "百円玉 4 枚\n",
      "50円玉 0 枚\n",
      "10円玉 4 枚\n",
      "5円玉 1 枚\n",
      "1円玉 4 枚\n"
     ]
    }
   ],
   "source": [
    "money = int(input(\"Input amount : \"))\n",
    "\n",
    "thou10 = money//10000\n",
    "money = money%10000\n",
    "\n",
    "thou5 = money//5000\n",
    "money = money%5000\n",
    "\n",
    "thou1 = money//1000\n",
    "money = money%1000\n",
    "\n",
    "hand5 = money//500\n",
    "money = money%500\n",
    "\n",
    "hand1 = money//100\n",
    "money = money%100\n",
    "\n",
    "ten5 = money//50\n",
    "money = money%50\n",
    "\n",
    "ten1 = money//10\n",
    "money = money%10\n",
    "\n",
    "five = money//5\n",
    "money = money%5\n",
    "\n",
    "print(\"1万円札\",thou10,\"枚\",sep=\" \")\n",
    "print(\"5千円札\",thou5,\"枚\",sep=\" \")\n",
    "print(\"千円札\",thou1,\"枚\",sep=\" \")\n",
    "print(\"5百円玉\",hand5,\"枚\",sep=\" \")\n",
    "print(\"百円玉\",hand1,\"枚\",sep=\" \")\n",
    "print(\"50円玉\",ten5,\"枚\",sep=\" \")\n",
    "print(\"10円玉\",ten1,\"枚\",sep=\" \")\n",
    "print(\"5円玉\",five,\"枚\",sep=\" \")\n",
    "print(\"1円玉\",money,\"枚\",sep=\" \")"
   ]
  },
  {
   "cell_type": "markdown",
   "metadata": {},
   "source": [
    "### 練習07 BMIチェック改良版\n",
    "康のために肥満度をチェックしてみましょう。身長と体重を入力してあなたの肥満度（BMI＝体重(kg)÷身長(m)の二乗）を計算するプログラムを作成し、判定基準に従って、18.5未満→やせ、18.5〜25未満→標準、25〜30未満→肥満、30以上→高度肥満という判定を返すプログラムを作りなさい。"
   ]
  },
  {
   "cell_type": "code",
   "execution_count": 54,
   "metadata": {},
   "outputs": [
    {
     "name": "stdout",
     "output_type": "stream",
     "text": [
      "Input height(cm) : 160\n",
      "Input weight(kg) : 45\n",
      "BMI =  17.578124999999996\n",
      "You are too slim\n"
     ]
    }
   ],
   "source": [
    "Height = float(input(\"Input height(cm) : \"))\n",
    "Weight = float(input(\"Input weight(kg) : \"))\n",
    "\n",
    "bmi = Weight/(Height/100)**2\n",
    "print(\"BMI = \",bmi)\n",
    "\n",
    "if bmi<18.5:\n",
    "    print(\"You are too slim\")\n",
    "elif bmi<25:  # andで複数条件も可能\n",
    "    print(\"You are Normal shpae\")\n",
    "elif bmi<30:\n",
    "    print(\"You are Obesity\")\n",
    "else:\n",
    "    print(\"You are too Obesity\")"
   ]
  },
  {
   "cell_type": "markdown",
   "metadata": {},
   "source": [
    "### 練習09 うるう年の判定\n",
    "うるう年というのは、四年に一度、二月が29日まである年のことをいうと思われていますが、正確にはもっと複雑です。西暦の年に対して、\n",
    "年が400で割り切れるなら、うるう年です。\n",
    "そうではなくて年が100で割り切れるならば、うるう年ではありません。\n",
    "そうでもなくて年が4で割り切れるならば、うるう年です。\n",
    "このルールに従って、西暦の年を入力してうるう年を判定するプログラムを書きなさい。"
   ]
  },
  {
   "cell_type": "code",
   "execution_count": 72,
   "metadata": {},
   "outputs": [
    {
     "name": "stdout",
     "output_type": "stream",
     "text": [
      "Input year: 2020\n",
      "2020年は閏年です。\n"
     ]
    }
   ],
   "source": [
    "year = int(input(\"Input year: \"))\n",
    "\n",
    "if year%400==0:\n",
    "    print(\"{}年は閏年です。\".format(year))\n",
    "elif year%100==0:\n",
    "    print(\"{}年は閏年ではありません。\".format(year))\n",
    "elif year%4==0:\n",
    "    print(\"{}年は閏年です。\".format(year))\n",
    "else:\n",
    "    print(\"{}年は閏年ではありません。\".format(year))\n"
   ]
  },
  {
   "cell_type": "code",
   "execution_count": 73,
   "metadata": {},
   "outputs": [
    {
     "name": "stdout",
     "output_type": "stream",
     "text": [
      "西暦で年を入力して下さい> 2020\n",
      "2020年はうるう年です。\n"
     ]
    }
   ],
   "source": [
    "year = int(input('西暦で年を入力して下さい> '))\n",
    "leap = False # 最初にうるう年ではないと指定。\n",
    "if year % 400 == 0 :\n",
    "    leap = True\n",
    "elif year % 100 == 0 :\n",
    "    leap = False\n",
    "elif leap % 4 == 0 :\n",
    "    leap = True\n",
    "if leap :\n",
    "    print(str(year)+'年はうるう年です。')\n",
    "else :\n",
    "    print(str(year)+'年はうるう年ではありません。')"
   ]
  },
  {
   "cell_type": "code",
   "execution_count": 77,
   "metadata": {},
   "outputs": [
    {
     "name": "stdout",
     "output_type": "stream",
     "text": [
      "Input Year: 1994\n",
      "Input Month: 8\n",
      "Input Day: 3\n",
      "1994年8月3日は水曜日です。\n"
     ]
    }
   ],
   "source": [
    "year = int(input(\"Input Year: \"))\n",
    "month = int(input(\"Input Month: \"))\n",
    "day = int(input(\"Input Day: \"))\n",
    "\n",
    "date = str(year)+\"年\"+str(month)+\"月\"+str(day)+\"日\"\n",
    "\n",
    "if month==1 or month==2:\n",
    "    year = year-1\n",
    "    month = month+12\n",
    "\n",
    "weekday = (year + (year // 4) - (year // 100) + (year // 400) + ((13*month+8) // 5) + day) % 7\n",
    "\n",
    "if weekday == 0 :\n",
    "    weekstr = '日曜日'\n",
    "elif weekday == 1 :\n",
    "    weekstr = '月曜日'\n",
    "elif weekday == 2 :\n",
    "    weekstr = '火曜日'\n",
    "elif weekday == 3 :\n",
    "    weekstr = '水曜日'\n",
    "elif weekday == 4 :\n",
    "    weekstr = '木曜日'\n",
    "elif weekday == 5 :\n",
    "    weekstr = '金曜日'\n",
    "elif weekday == 6 :\n",
    "    weekstr = '土曜日'\n",
    "    \n",
    "print(\"{}は{}です。\".format(date,weekstr))\n"
   ]
  },
  {
   "cell_type": "markdown",
   "metadata": {},
   "source": [
    "### 練習11 ジャンケンするプログラム\n",
    "計算機とジャンケンをするプログラムを書きましょう。グー、チョキ、パーをそれぞれ0,1,2の整数で表すとします。あなたの出す手を整数で入力し、勝負するようにします。コンピュータの出す手は乱数（同じ確率ででたらめに数を自動的に生成する仕組み）を使って作り出します。具体的には、random.randint(最小値, 最大値)という式を使うと自動的に最小値から最大値までのでたらめな整数を作ってくれます。(プログラムの始めに、'import random'の宣言が必要)\n",
    " comp=random.randint(0,2)\n",
    "こうすると、このcompに0か1か2の整数がでたらめに代入されます。入力したあなたの手とこのcompを比較して、ジャンケンの勝負を判定するプログラムを作りなさい。"
   ]
  },
  {
   "cell_type": "code",
   "execution_count": 90,
   "metadata": {},
   "outputs": [
    {
     "name": "stdout",
     "output_type": "stream",
     "text": [
      "じゃんけんぽん！\n",
      "あなたは？(0:グー, 1:チョキ, 2:パー): 0\n",
      "わたしはチョキ。あなたはグー。あなたの勝ちです。\n"
     ]
    }
   ],
   "source": [
    "print(\"じゃんけんぽん！\")\n",
    "yours = int(input(\"あなたは？(0:グー, 1:チョキ, 2:パー): \"))\n",
    "\n",
    "import random\n",
    "#random.seed(0)\n",
    "comp = random.randint(0,2)\n",
    "\n",
    "if comp == 0 : # グー\n",
    "    compstr = 'わたしはグー。'\n",
    "    if yours == 0 :\n",
    "        yourstr = 'あなたもグー。'\n",
    "        result = 'あいこです。'\n",
    "    elif yours == 1 :\n",
    "        yourstr = 'あなたはチョキ。'\n",
    "        result = 'あなたの負けです。'\n",
    "    else :\n",
    "        yourstr = 'あなたはパー。'\n",
    "        result = 'あなたの勝ちです。'\n",
    "elif comp == 1 : # チョキ\n",
    "    compstr = 'わたしはチョキ。'\n",
    "    if yours == 0 :\n",
    "        yourstr = 'あなたはグー。'\n",
    "        result = 'あなたの勝ちです。'\n",
    "    elif yours == 1 :\n",
    "        yourstr = 'あなたもチョキ。'\n",
    "        result = 'あいこです。'\n",
    "    else :\n",
    "        yourstr = 'あなたはパー。'\n",
    "        result = 'あなたの負けです。'\n",
    "else : # パー\n",
    "    compstr = 'わたしはパー。'\n",
    "    if yours == 0 :\n",
    "        yourstr = 'あなたはグー。'\n",
    "        result = 'あなたの負けです。'\n",
    "    elif yours == 1 :\n",
    "        yourstr = 'あなたはチョキ。'\n",
    "        result = 'あなたの勝ちです。'\n",
    "    else :\n",
    "        yourstr = 'あなたもパー。'\n",
    "        result = 'あいこです。'\n",
    "print(compstr+yourstr+result)"
   ]
  },
  {
   "cell_type": "markdown",
   "metadata": {},
   "source": [
    "### 練習12 数の比較\n",
    "　３つの数を入力し、数を昇順に並べ替えてから出力するプログラムを作成してください。\n"
   ]
  },
  {
   "cell_type": "code",
   "execution_count": 93,
   "metadata": {},
   "outputs": [
    {
     "name": "stdout",
     "output_type": "stream",
     "text": [
      "Input num1: 200\n",
      "Input num2: 10\n",
      "Input num3: 300\n",
      "10 200 300\n"
     ]
    }
   ],
   "source": [
    "a = int(input(\"Input num1: \"))\n",
    "b = int(input(\"Input num2: \"))\n",
    "c = int(input(\"Input num3: \"))\n",
    "\n",
    "if a>b:\n",
    "    temp = a\n",
    "    a = b\n",
    "    b = temp\n",
    "\n",
    "if a>c:\n",
    "    temp = a\n",
    "    a = c\n",
    "    c = temp\n",
    "\n",
    "if b>c:\n",
    "    temp = b \n",
    "    b = c\n",
    "    c = temp\n",
    "    \n",
    "print(a,b,c)\n",
    "    "
   ]
  },
  {
   "cell_type": "markdown",
   "metadata": {},
   "source": [
    "### 練習13 べき乗計算\n",
    "　1以上の整数を入力し、その数までのべき乗を計算するプログラムを作成せよ。\n"
   ]
  },
  {
   "cell_type": "code",
   "execution_count": 102,
   "metadata": {},
   "outputs": [
    {
     "name": "stdout",
     "output_type": "stream",
     "text": [
      "Input Number: 10\n",
      "10! = 3628800\n"
     ]
    }
   ],
   "source": [
    "num = int(input(\"Input Number: \"))\n",
    "nums = 1\n",
    "\n",
    "for i in range(1,num+1):\n",
    "    nums = nums*i\n",
    "\n",
    "print(\"{}! =\".format(num),nums)"
   ]
  },
  {
   "cell_type": "markdown",
   "metadata": {},
   "source": [
    "### 練習14 棒グラフ\n",
    "　数字を入力し、入力した数だけ画面に■印を表示するプログラムを書きなさい。\n"
   ]
  },
  {
   "cell_type": "code",
   "execution_count": 109,
   "metadata": {},
   "outputs": [
    {
     "name": "stdout",
     "output_type": "stream",
     "text": [
      "Input Number: 10\n",
      "10: ■■■■■■■■■■\n"
     ]
    }
   ],
   "source": [
    "num = int(input(\"Input Number: \"))\n",
    "output = \"\"\n",
    "\n",
    "for i in range(num):\n",
    "    output += \"■\"\n",
    "\n",
    "print(\"{}:\".format(num),output)"
   ]
  },
  {
   "cell_type": "code",
   "execution_count": 111,
   "metadata": {},
   "outputs": [
    {
     "name": "stdout",
     "output_type": "stream",
     "text": [
      "Input Number: 10\n",
      "10:■■■■■■■■■■\n"
     ]
    }
   ],
   "source": [
    "num = int(input(\"Input Number: \"))\n",
    "print(str(num) + \":\" + \"■\"*num)"
   ]
  },
  {
   "cell_type": "markdown",
   "metadata": {},
   "source": [
    "### 練習15 棒グラフ\n",
    "　数字を入力して、1からその数までの棒グラフを順に表示するプログラムを書きなさい。\n"
   ]
  },
  {
   "cell_type": "code",
   "execution_count": 115,
   "metadata": {},
   "outputs": [
    {
     "name": "stdout",
     "output_type": "stream",
     "text": [
      "Input Number: 9\n",
      "1: ■\n",
      "2: ■■\n",
      "3: ■■■\n",
      "4: ■■■■\n",
      "5: ■■■■■\n",
      "6: ■■■■■■\n",
      "7: ■■■■■■■\n",
      "8: ■■■■■■■■\n",
      "9: ■■■■■■■■■\n"
     ]
    }
   ],
   "source": [
    "num = int(input(\"Input Number: \"))\n",
    "output = \"\"\n",
    "\n",
    "for i in range(1,num+1):\n",
    "    output += \"■\"\n",
    "    print(\"{}:\".format(i),output)"
   ]
  },
  {
   "cell_type": "markdown",
   "metadata": {},
   "source": [
    "### 練習16 データ数のわからない集計\n",
    "数を次々と入力し、負の数が入力されるまで続け、負の数が入力されたら、それまでの数の合計と平均を求めるプログラムを書きなさい。"
   ]
  },
  {
   "cell_type": "code",
   "execution_count": 120,
   "metadata": {},
   "outputs": [
    {
     "name": "stdout",
     "output_type": "stream",
     "text": [
      "Input Number: 10\n",
      "Input Number: 32\n",
      "Input Number: 2\n",
      "Input Number: -1\n",
      "データ数: 3 合計: 44 平均: 14.666666666666666\n"
     ]
    }
   ],
   "source": [
    "count=0\n",
    "sums=0\n",
    "num = int(input(\"Input Number: \"))\n",
    "\n",
    "while num>=0:\n",
    "    count+=1\n",
    "    sums+=num\n",
    "    num = int(input(\"Input Number: \"))\n",
    "\n",
    "ave = sums/count\n",
    "    \n",
    "print('データ数:',count,'合計:',sums,'平均:',ave)"
   ]
  },
  {
   "cell_type": "markdown",
   "metadata": {},
   "source": [
    "### 練習17 借金を返済しよう\n",
    "借金をして月々、定額を返済していくと借金はどうなっていくのかを調べるプログラムを作成しよう。借金の金額と、利息の年利率(%)、月々の返済額を入力すると、毎月、借金がなくなるまで月数と借金の金額を表示するものとする。月々の借金は、借金の利息年利率/12（月割り）分増加するが、返済分だけ減る"
   ]
  },
  {
   "cell_type": "code",
   "execution_count": 127,
   "metadata": {},
   "outputs": [
    {
     "name": "stdout",
     "output_type": "stream",
     "text": [
      "Debt amount: 100000\n",
      "Ratio per year(%): 14\n",
      "PayBack per month: 20000\n",
      "1月:返済額 20000 円。残り 81166\n",
      "2月:返済額 20000 円。残り 62113\n",
      "3月:返済額 20000 円。残り 42838\n",
      "4月:返済額 20000 円。残り 23338\n",
      "5月:返済額 20000 円。残り 3610\n",
      "6月:返済額 3652 円。これで完済。返済総額 103652 円\n"
     ]
    }
   ],
   "source": [
    "debt = int(input(\"Debt amount: \"))\n",
    "ratio = float(input(\"Ratio per year(%): \"))\n",
    "payback = int(input(\"PayBack per month: \"))\n",
    "\n",
    "total = 0\n",
    "month = 0\n",
    "\n",
    "while debt>payback:\n",
    "    month +=1\n",
    "    debt = debt*(1+ratio/12/100)-payback\n",
    "    print(str(month)+\"月:返済額\",payback,\"円。残り\",int(debt))\n",
    "    total += payback\n",
    "\n",
    "month += 1\n",
    "debt = debt*(1+ratio/12/100)\n",
    "total += debt\n",
    "\n",
    "print(str(month)+\"月:返済額\",int(debt),\"円。これで完済。返済総額\",int(total),\"円\")"
   ]
  },
  {
   "cell_type": "markdown",
   "metadata": {},
   "source": [
    "### 練習18 モンテカルロ・シミュレーション \n",
    "モンテカルロ・シミュレーションは、コンピュータ上で仮想的に実験をしてみて、そこから結果を求める問題の解き方です。ここでは円周率を求めてみましょう。  \n",
    "一辺の長さが１の正方形に半径１の四分の１円が入っているとします。この中に、次々とダーツを投げて円の中に入った数を勘定します。投げるダーツの内で円の中に入るダーツの個数の割合は、正方形の面積と四分の一円の面積の割合と同じです。  つまり、円の中に入ったダーツの数(nc)／投げたダーツの総数(n) = 四分の１円の面積／正方形の面積です。  \n",
    "沢山、ダーツを投げれば投げるほどこの値は一定になります。これを使って円周率を求めることができます。   \n",
    "    π = 4 * nc / n  \n",
    "となるからです。ダーツを投げるにはジャンケンの時に使った乱数を使います。(つまり、import randomが必要です。)  \n",
    "random.random() --- [0.0,1.0]の範囲の浮動小数点数を生成  \n",
    "投げたダーツが正方形の中に落ちる位置(x,y)をそれぞれ乱数で与えます。  \n",
    "そして、x2 + y2 が１より小さければ、円の中に落ちたということになるので、nc\n",
    "を1増やします。ダーツを投げる回数を入力して、円周率を求めるプログラムを作りなさい。"
   ]
  },
  {
   "cell_type": "code",
   "execution_count": 159,
   "metadata": {},
   "outputs": [
    {
     "name": "stdout",
     "output_type": "stream",
     "text": [
      "Input repeat times100000000\n",
      "3.14172856\n"
     ]
    }
   ],
   "source": [
    "import random\n",
    "\n",
    "nc = 0\n",
    "time = int(input(\"Input repeat times\" ))\n",
    "for i in range(1,time+1):\n",
    "    x = random.random()\n",
    "    y = random.random()\n",
    "    circle = x**2+y**2\n",
    "    \n",
    "    if circle <= 1:\n",
    "        nc += 1\n",
    "    \n",
    "pi = 4*nc/time\n",
    "print(pi)"
   ]
  },
  {
   "cell_type": "code",
   "execution_count": 162,
   "metadata": {},
   "outputs": [
    {
     "data": {
      "text/plain": [
       "[4, 16, 36, 64, 100]"
      ]
     },
     "execution_count": 162,
     "metadata": {},
     "output_type": "execute_result"
    }
   ],
   "source": [
    "a= [i**2 for i in range(2,11,2)]\n",
    "a"
   ]
  },
  {
   "cell_type": "code",
   "execution_count": 170,
   "metadata": {},
   "outputs": [
    {
     "name": "stdout",
     "output_type": "stream",
     "text": [
      "0\n",
      "1\n",
      "2\n",
      "3\n",
      "4\n"
     ]
    }
   ],
   "source": [
    "for number in range(10):\n",
    "    if number == 5:\n",
    "        break\n",
    "    print(number)"
   ]
  },
  {
   "cell_type": "code",
   "execution_count": 169,
   "metadata": {},
   "outputs": [
    {
     "name": "stdout",
     "output_type": "stream",
     "text": [
      "0\n",
      "1\n",
      "2\n",
      "3\n",
      "4\n",
      "6\n",
      "7\n",
      "8\n",
      "9\n"
     ]
    }
   ],
   "source": [
    "for number in range(10):\n",
    "    if number == 5:\n",
    "        continue\n",
    "    print(number)"
   ]
  },
  {
   "cell_type": "code",
   "execution_count": 172,
   "metadata": {},
   "outputs": [
    {
     "name": "stdout",
     "output_type": "stream",
     "text": [
      "0\n",
      "1\n",
      "2\n",
      "3\n",
      "4\n",
      "6\n",
      "7\n",
      "8\n",
      "9\n"
     ]
    }
   ],
   "source": [
    "for number in range(10):\n",
    "    if number == 5:\n",
    "        pass\n",
    "    else:\n",
    "        print(number) #numberが出力される"
   ]
  },
  {
   "cell_type": "code",
   "execution_count": 174,
   "metadata": {},
   "outputs": [
    {
     "name": "stdout",
     "output_type": "stream",
     "text": [
      "0\n",
      "1\n",
      "2\n",
      "3\n",
      "4\n",
      "5\n",
      "6\n"
     ]
    }
   ],
   "source": [
    "for i in range(10):\n",
    "    if i == 7:\n",
    "        break\n",
    "    print(i)"
   ]
  },
  {
   "cell_type": "code",
   "execution_count": 176,
   "metadata": {},
   "outputs": [
    {
     "name": "stdout",
     "output_type": "stream",
     "text": [
      "0\n",
      "1\n",
      "2\n",
      "3\n",
      "5\n",
      "6\n",
      "7\n",
      "8\n",
      "9\n"
     ]
    }
   ],
   "source": [
    "for i in range(10):\n",
    "    if i == 4:\n",
    "        continue\n",
    "    print(i)"
   ]
  },
  {
   "cell_type": "code",
   "execution_count": 178,
   "metadata": {},
   "outputs": [
    {
     "name": "stdout",
     "output_type": "stream",
     "text": [
      "0\n",
      "1\n",
      "2\n",
      "3\n",
      "5\n",
      "6\n",
      "7\n",
      "8\n",
      "9\n"
     ]
    }
   ],
   "source": [
    "for i in range(10):\n",
    "    if i == 4:\n",
    "        pass\n",
    "    else:\n",
    "        print(i)"
   ]
  },
  {
   "cell_type": "code",
   "execution_count": 188,
   "metadata": {},
   "outputs": [],
   "source": [
    "import numpy as np\n",
    "l = np.arange(1,11)"
   ]
  },
  {
   "cell_type": "code",
   "execution_count": 191,
   "metadata": {},
   "outputs": [
    {
     "data": {
      "text/plain": [
       "array([  1,   4,   9,  16,  25,  36,  49,  64,  81, 100])"
      ]
     },
     "execution_count": 191,
     "metadata": {},
     "output_type": "execute_result"
    }
   ],
   "source": [
    "l**2"
   ]
  },
  {
   "cell_type": "code",
   "execution_count": 194,
   "metadata": {},
   "outputs": [
    {
     "data": {
      "text/plain": [
       "[1, 4, 9, 16, 25, 36, 49, 64, 81, 100]"
      ]
     },
     "execution_count": 194,
     "metadata": {},
     "output_type": "execute_result"
    }
   ],
   "source": [
    "l = [i**2 for i in range(1,11)]\n",
    "l"
   ]
  },
  {
   "cell_type": "code",
   "execution_count": 195,
   "metadata": {},
   "outputs": [
    {
     "name": "stdout",
     "output_type": "stream",
     "text": [
      "1\n",
      "16\n",
      "81\n",
      "256\n",
      "625\n",
      "1296\n",
      "2401\n",
      "4096\n",
      "6561\n",
      "10000\n"
     ]
    }
   ],
   "source": [
    "for i in l:\n",
    "    print(i**2)"
   ]
  },
  {
   "cell_type": "code",
   "execution_count": 201,
   "metadata": {},
   "outputs": [
    {
     "name": "stdout",
     "output_type": "stream",
     "text": [
      "x :hot\n",
      "y :cold\n",
      "z :hot\n"
     ]
    }
   ],
   "source": [
    "temperatures  = { 'x': 24 , 'y': 18,   'z': 30}\n",
    "\n",
    "for k,v in temperatures.items():  # items()が必要なのね\n",
    "    if v>=20:\n",
    "        print(k,\":hot\")\n",
    "    else:\n",
    "        print(k,\":cold\")"
   ]
  },
  {
   "cell_type": "code",
   "execution_count": 202,
   "metadata": {},
   "outputs": [],
   "source": [
    "x,y,z = (1,2,3)"
   ]
  },
  {
   "cell_type": "code",
   "execution_count": 203,
   "metadata": {},
   "outputs": [
    {
     "data": {
      "text/plain": [
       "1"
      ]
     },
     "execution_count": 203,
     "metadata": {},
     "output_type": "execute_result"
    }
   ],
   "source": [
    "x"
   ]
  },
  {
   "cell_type": "code",
   "execution_count": 204,
   "metadata": {},
   "outputs": [
    {
     "data": {
      "text/plain": [
       "2"
      ]
     },
     "execution_count": 204,
     "metadata": {},
     "output_type": "execute_result"
    }
   ],
   "source": [
    "y"
   ]
  },
  {
   "cell_type": "code",
   "execution_count": 205,
   "metadata": {},
   "outputs": [
    {
     "data": {
      "text/plain": [
       "3"
      ]
     },
     "execution_count": 205,
     "metadata": {},
     "output_type": "execute_result"
    }
   ],
   "source": [
    "z"
   ]
  },
  {
   "cell_type": "code",
   "execution_count": 212,
   "metadata": {},
   "outputs": [
    {
     "name": "stdout",
     "output_type": "stream",
     "text": [
      "0\n",
      "2\n",
      "4\n",
      "5\n",
      "6\n",
      "9\n",
      "11\n",
      "12\n",
      "13\n",
      "14\n",
      "17\n",
      "18\n",
      "20\n",
      "22\n",
      "23\n",
      "25\n",
      "27\n",
      "28\n",
      "29\n",
      "30\n",
      "31\n",
      "32\n",
      "33\n",
      "34\n",
      "36\n",
      "40\n",
      "41\n",
      "43\n",
      "44\n",
      "45\n",
      "48\n",
      "49\n",
      "50\n",
      "51\n",
      "53\n",
      "55\n",
      "60\n",
      "61\n",
      "63\n",
      "65\n",
      "67\n",
      "68\n",
      "69\n",
      "72\n",
      "74\n",
      "75\n",
      "76\n",
      "77\n",
      "80\n",
      "81\n",
      "82\n",
      "85\n",
      "86\n",
      "87\n",
      "89\n",
      "90\n",
      "91\n",
      "92\n",
      "96\n",
      "97\n",
      "98\n",
      "100\n"
     ]
    }
   ],
   "source": [
    "import random\n",
    "\n",
    "my_set = set([])\n",
    "for _ in range(100):\n",
    "    my_set.add(random.randint(0,100))\n",
    "for i in my_set:\n",
    "    print(i)"
   ]
  },
  {
   "cell_type": "code",
   "execution_count": 213,
   "metadata": {},
   "outputs": [
    {
     "data": {
      "text/plain": [
       "62"
      ]
     },
     "execution_count": 213,
     "metadata": {},
     "output_type": "execute_result"
    }
   ],
   "source": [
    "len(my_set)"
   ]
  },
  {
   "cell_type": "code",
   "execution_count": 223,
   "metadata": {},
   "outputs": [
    {
     "data": {
      "text/plain": [
       "[45, 97, 21, 51, 6, 91, 22, 66, 58, 62, 91, 31, 27, 61, 78, 24, 0, 32, 59, 66]"
      ]
     },
     "execution_count": 223,
     "metadata": {},
     "output_type": "execute_result"
    }
   ],
   "source": [
    "import random\n",
    "\n",
    "my_list = []\n",
    "for i in range(20):\n",
    "    x = random.randint(0,101)\n",
    "    my_list.append(x)\n",
    "my_list"
   ]
  },
  {
   "cell_type": "code",
   "execution_count": 216,
   "metadata": {},
   "outputs": [
    {
     "data": {
      "text/plain": [
       "20"
      ]
     },
     "execution_count": 216,
     "metadata": {},
     "output_type": "execute_result"
    }
   ],
   "source": [
    "len(my_list)"
   ]
  },
  {
   "cell_type": "code",
   "execution_count": 227,
   "metadata": {},
   "outputs": [
    {
     "name": "stdout",
     "output_type": "stream",
     "text": [
      "Input Number 20\n"
     ]
    },
    {
     "data": {
      "text/plain": [
       "[2, 3, 5, 7, 11, 13, 17, 19]"
      ]
     },
     "execution_count": 227,
     "metadata": {},
     "output_type": "execute_result"
    }
   ],
   "source": [
    "# sosuu\n",
    "\n",
    "l = []\n",
    "n = int(input(\"Input Number \"))\n",
    "\n",
    "for i in range(2,n+1):\n",
    "    flag = True\n",
    "    for j in range(2,i):\n",
    "        if i%j==0:\n",
    "            flag=False\n",
    "    if flag ==True:\n",
    "        l.append(i)\n",
    "l"
   ]
  },
  {
   "cell_type": "code",
   "execution_count": 238,
   "metadata": {},
   "outputs": [
    {
     "name": "stdout",
     "output_type": "stream",
     "text": [
      "Input number: 10\n"
     ]
    },
    {
     "data": {
      "text/plain": [
       "[2, 3, 5, 7]"
      ]
     },
     "execution_count": 238,
     "metadata": {},
     "output_type": "execute_result"
    }
   ],
   "source": [
    "l = []\n",
    "n = int(input(\"Input number: \"))\n",
    "\n",
    "for i in range(2,n+1):\n",
    "    flag = True\n",
    "    for j in range(2,i):\n",
    "        if i%j==0:\n",
    "            flag = False\n",
    "    if flag == True:\n",
    "        l.append(i)\n",
    "l"
   ]
  },
  {
   "cell_type": "code",
   "execution_count": 254,
   "metadata": {},
   "outputs": [],
   "source": [
    "def primeNumber(n):\n",
    "    l = []\n",
    "    for i in range(2,n+1):\n",
    "        flag = True\n",
    "        for j in l:\n",
    "            if i%j==0:\n",
    "                flag = False\n",
    "                break\n",
    "        if flag == True:\n",
    "            l.append(i)\n",
    "    return l"
   ]
  },
  {
   "cell_type": "code",
   "execution_count": 255,
   "metadata": {},
   "outputs": [
    {
     "name": "stdout",
     "output_type": "stream",
     "text": [
      "1.06 ms ± 8.61 µs per loop (mean ± std. dev. of 7 runs, 1000 loops each)\n"
     ]
    }
   ],
   "source": [
    "%%timeit\n",
    "pm = primeNumber(1000)"
   ]
  },
  {
   "cell_type": "code",
   "execution_count": 256,
   "metadata": {},
   "outputs": [
    {
     "name": "stdout",
     "output_type": "stream",
     "text": [
      "[2, 3, 5, 7, 11, 13, 17, 19, 23, 29, 31, 37, 41, 43, 47, 53, 59, 61, 67, 71, 73, 79, 83, 89, 97, 101, 103, 107, 109, 113, 127, 131, 137, 139, 149, 151, 157, 163, 167, 173, 179, 181, 191, 193, 197, 199, 211, 223, 227, 229, 233, 239, 241, 251, 257, 263, 269, 271, 277, 281, 283, 293, 307, 311, 313, 317, 331, 337, 347, 349, 353, 359, 367, 373, 379, 383, 389, 397, 401, 409, 419, 421, 431, 433, 439, 443, 449, 457, 461, 463, 467, 479, 487, 491, 499, 503, 509, 521, 523, 541, 547, 557, 563, 569, 571, 577, 587, 593, 599, 601, 607, 613, 617, 619, 631, 641, 643, 647, 653, 659, 661, 673, 677, 683, 691, 701, 709, 719, 727, 733, 739, 743, 751, 757, 761, 769, 773, 787, 797, 809, 811, 821, 823, 827, 829, 839, 853, 857, 859, 863, 877, 881, 883, 887, 907, 911, 919, 929, 937, 941, 947, 953, 967, 971, 977, 983, 991, 997]\n"
     ]
    }
   ],
   "source": [
    "print(pm)"
   ]
  },
  {
   "cell_type": "code",
   "execution_count": 246,
   "metadata": {},
   "outputs": [
    {
     "data": {
      "text/plain": [
       "168"
      ]
     },
     "execution_count": 246,
     "metadata": {},
     "output_type": "execute_result"
    }
   ],
   "source": [
    "len(pm)"
   ]
  },
  {
   "cell_type": "code",
   "execution_count": 260,
   "metadata": {},
   "outputs": [
    {
     "data": {
      "text/plain": [
       "list"
      ]
     },
     "execution_count": 260,
     "metadata": {},
     "output_type": "execute_result"
    }
   ],
   "source": [
    "type(pm)"
   ]
  },
  {
   "cell_type": "code",
   "execution_count": 264,
   "metadata": {},
   "outputs": [],
   "source": [
    "def add(a,b):\n",
    "    result = []\n",
    "    if len(a)==len(b):\n",
    "        for (x,y) in zip(a,b):\n",
    "            result.append(x+y)\n",
    "        return result\n",
    "    else:\n",
    "        print(\"Error\")\n",
    "        return result"
   ]
  },
  {
   "cell_type": "code",
   "execution_count": 265,
   "metadata": {},
   "outputs": [],
   "source": [
    "a = [1,2,3]\n",
    "b = [4,5,6]\n",
    "c = [1,2,3,4]"
   ]
  },
  {
   "cell_type": "code",
   "execution_count": 285,
   "metadata": {},
   "outputs": [
    {
     "data": {
      "text/plain": [
       "[5, 7, 9]"
      ]
     },
     "execution_count": 285,
     "metadata": {},
     "output_type": "execute_result"
    }
   ],
   "source": [
    "x = add(a,b)\n",
    "x"
   ]
  },
  {
   "cell_type": "code",
   "execution_count": 286,
   "metadata": {},
   "outputs": [
    {
     "data": {
      "text/plain": [
       "list"
      ]
     },
     "execution_count": 286,
     "metadata": {},
     "output_type": "execute_result"
    }
   ],
   "source": [
    "type(x)"
   ]
  },
  {
   "cell_type": "code",
   "execution_count": 267,
   "metadata": {},
   "outputs": [
    {
     "name": "stdout",
     "output_type": "stream",
     "text": [
      "Error\n"
     ]
    },
    {
     "data": {
      "text/plain": [
       "[]"
      ]
     },
     "execution_count": 267,
     "metadata": {},
     "output_type": "execute_result"
    }
   ],
   "source": [
    "add(a,c)"
   ]
  },
  {
   "cell_type": "markdown",
   "metadata": {},
   "source": [
    "#### encode"
   ]
  },
  {
   "cell_type": "markdown",
   "metadata": {},
   "source": [
    "111100110 → 4221"
   ]
  },
  {
   "cell_type": "code",
   "execution_count": 5,
   "metadata": {},
   "outputs": [
    {
     "name": "stdout",
     "output_type": "stream",
     "text": [
      "input binary number: 123\n"
     ]
    },
    {
     "data": {
      "text/plain": [
       "[1, 1]"
      ]
     },
     "execution_count": 5,
     "metadata": {},
     "output_type": "execute_result"
    }
   ],
   "source": [
    "text = str(input(\"input binary number: \"))\n",
    "n = [] # リストに追加していく\n",
    "init = text[0]  #０か１か\n",
    "\n",
    "for i in range(1,len(text)):\n",
    "    count = 1\n",
    "    while text[i-1]==text[i]:\n",
    "        count+=1\n",
    "    n.append(count)\n",
    "n"
   ]
  },
  {
   "cell_type": "code",
   "execution_count": 269,
   "metadata": {},
   "outputs": [
    {
     "data": {
      "text/plain": [
       "str"
      ]
     },
     "execution_count": 269,
     "metadata": {},
     "output_type": "execute_result"
    }
   ],
   "source": [
    "type(text)"
   ]
  },
  {
   "cell_type": "code",
   "execution_count": 280,
   "metadata": {},
   "outputs": [
    {
     "data": {
      "text/plain": [
       "False"
      ]
     },
     "execution_count": 280,
     "metadata": {},
     "output_type": "execute_result"
    }
   ],
   "source": [
    "text[0] == text[3]"
   ]
  },
  {
   "cell_type": "code",
   "execution_count": 313,
   "metadata": {},
   "outputs": [],
   "source": [
    "# sosuu計算\n",
    "\n",
    "def calcPN(num):\n",
    "    l = []\n",
    "    for i in range(2,num+1):\n",
    "        flag = True\n",
    "        for j in l:\n",
    "            if i%j==0:\n",
    "                flag = False\n",
    "                break\n",
    "        if flag == True:\n",
    "            l.append(i)\n",
    "    return l"
   ]
  },
  {
   "cell_type": "code",
   "execution_count": 316,
   "metadata": {},
   "outputs": [],
   "source": [
    "pn = calcPN(150)"
   ]
  },
  {
   "cell_type": "code",
   "execution_count": 317,
   "metadata": {},
   "outputs": [
    {
     "name": "stdout",
     "output_type": "stream",
     "text": [
      "[2, 3, 5, 7, 11, 13, 17, 19, 23, 29, 31, 37, 41, 43, 47, 53, 59, 61, 67, 71, 73, 79, 83, 89, 97, 101, 103, 107, 109, 113, 127, 131, 137, 139, 149]\n"
     ]
    }
   ],
   "source": [
    "print(pn)"
   ]
  },
  {
   "cell_type": "code",
   "execution_count": 292,
   "metadata": {},
   "outputs": [
    {
     "name": "stdout",
     "output_type": "stream",
     "text": [
      "10\n"
     ]
    }
   ],
   "source": [
    "a = int(input())"
   ]
  },
  {
   "cell_type": "code",
   "execution_count": 294,
   "metadata": {},
   "outputs": [
    {
     "data": {
      "text/plain": [
       "int"
      ]
     },
     "execution_count": 294,
     "metadata": {},
     "output_type": "execute_result"
    }
   ],
   "source": [
    "type(a)"
   ]
  },
  {
   "cell_type": "code",
   "execution_count": 295,
   "metadata": {},
   "outputs": [],
   "source": [
    "b = 10"
   ]
  },
  {
   "cell_type": "code",
   "execution_count": 296,
   "metadata": {},
   "outputs": [
    {
     "data": {
      "text/plain": [
       "int"
      ]
     },
     "execution_count": 296,
     "metadata": {},
     "output_type": "execute_result"
    }
   ],
   "source": [
    "type(b)"
   ]
  },
  {
   "cell_type": "code",
   "execution_count": null,
   "metadata": {},
   "outputs": [],
   "source": []
  },
  {
   "cell_type": "markdown",
   "metadata": {},
   "source": [
    "## Paiza"
   ]
  },
  {
   "cell_type": "code",
   "execution_count": 1,
   "metadata": {},
   "outputs": [
    {
     "name": "stdout",
     "output_type": "stream",
     "text": [
      "3\n",
      "234\n",
      "234 is not a leap year\n",
      "1355\n",
      "1355 is not a leap year\n",
      "2357\n",
      "2357 is not a leap year\n"
     ]
    }
   ],
   "source": [
    "N = int(input())\n",
    "n = 0\n",
    "while n < N:\n",
    "    input_line = int(input())\n",
    "    \n",
    "    leap = False\n",
    "    if input_line % 400 == 0:\n",
    "        leap = True\n",
    "    elif input_line % 100 == 0:\n",
    "        leap = False\n",
    "    elif input_line % 4 == 0:\n",
    "        leap = True\n",
    "    \n",
    "    if leap:\n",
    "        print(\"{} is a leap year\".format(input_line))    \n",
    "    else:\n",
    "        print(\"{} is not a leap year\".format(input_line))          \n",
    "    n += 1"
   ]
  },
  {
   "cell_type": "markdown",
   "metadata": {},
   "source": [
    " "
   ]
  },
  {
   "cell_type": "code",
   "execution_count": 3,
   "metadata": {},
   "outputs": [
    {
     "name": "stdout",
     "output_type": "stream",
     "text": [
      "2\n",
      "**"
     ]
    }
   ],
   "source": [
    "N = int(input())\n",
    "for i in range(N):\n",
    "    print(\"*\",end=\"\")"
   ]
  },
  {
   "cell_type": "code",
   "execution_count": 5,
   "metadata": {},
   "outputs": [
    {
     "name": "stdout",
     "output_type": "stream",
     "text": [
      "4\n",
      "****\n"
     ]
    }
   ],
   "source": [
    "N = int(input())\n",
    "output = \"\"\n",
    "for i in range(N):\n",
    "    output += \"*\"\n",
    "print(output)"
   ]
  },
  {
   "cell_type": "code",
   "execution_count": 3,
   "metadata": {},
   "outputs": [
    {
     "name": "stdout",
     "output_type": "stream",
     "text": [
      "10 20 30\n",
      "66.66666666666667\n"
     ]
    }
   ],
   "source": [
    "M,V,F=(int(x) for x in input().split())\n",
    "L = (M*V**2)/(2*F)\n",
    "print(L)"
   ]
  },
  {
   "cell_type": "code",
   "execution_count": 6,
   "metadata": {},
   "outputs": [
    {
     "name": "stdout",
     "output_type": "stream",
     "text": [
      "d1w12w\n",
      "d1w12w\n"
     ]
    }
   ],
   "source": [
    "s = str(input())\n",
    "print(s.replace(\"A\",\"4\").replace(\"E\",\"3\").replace(\"G\",\"6\")\n",
    "      .replace(\"I\",\"1\").replace(\"O\",\"0\").replace(\"S\",\"5\").replace(\"Z\",\"2\"))"
   ]
  },
  {
   "cell_type": "code",
   "execution_count": 14,
   "metadata": {},
   "outputs": [
    {
     "name": "stdout",
     "output_type": "stream",
     "text": [
      "1\n",
      "2\n",
      "3\n",
      "4\n"
     ]
    }
   ],
   "source": [
    "a = input()\n",
    "b = input()\n",
    "c = input()\n",
    "d = input()\n"
   ]
  },
  {
   "cell_type": "code",
   "execution_count": 17,
   "metadata": {},
   "outputs": [
    {
     "name": "stdout",
     "output_type": "stream",
     "text": [
      "10 10\n"
     ]
    }
   ],
   "source": [
    "W,H = map(int,input().split())"
   ]
  },
  {
   "cell_type": "markdown",
   "metadata": {},
   "source": [
    "## l = list(\"adijweid\")\n",
    "for i in l:\n",
    "    print(i)"
   ]
  },
  {
   "cell_type": "code",
   "execution_count": 22,
   "metadata": {},
   "outputs": [
    {
     "data": {
      "text/plain": [
       "8"
      ]
     },
     "execution_count": 22,
     "metadata": {},
     "output_type": "execute_result"
    }
   ],
   "source": [
    "len(l)"
   ]
  },
  {
   "cell_type": "code",
   "execution_count": 24,
   "metadata": {},
   "outputs": [
    {
     "data": {
      "text/plain": [
       "1"
      ]
     },
     "execution_count": 24,
     "metadata": {},
     "output_type": "execute_result"
    }
   ],
   "source": [
    "a = [\"akduch\"]\n",
    "len(a)"
   ]
  },
  {
   "cell_type": "code",
   "execution_count": 25,
   "metadata": {},
   "outputs": [
    {
     "name": "stdout",
     "output_type": "stream",
     "text": [
      "akduch\n"
     ]
    }
   ],
   "source": [
    "for i in a:\n",
    "    print(i)"
   ]
  },
  {
   "cell_type": "code",
   "execution_count": null,
   "metadata": {},
   "outputs": [],
   "source": [
    "N = int(input())\n",
    "n = 0\n",
    "while n < N:\n",
    "    s = list(str(input()))\n",
    "    if s[-1]==\"s\" or s[-1]==\"o\" or s[-1]==\"x\":\n",
    "        print(\"\".join(s)+\"es\")\n",
    "    elif s[-2]+s[-1]==\"sh\" or s[-2]+s[-1]==\"ch\":\n",
    "        print(\"\".join(s)+\"es\")\n",
    "    elif s[-1]==\"f\":\n",
    "        s[-1] = \"ves\"\n",
    "        print(\"\".join(s))\n",
    "    elif s[-2]+s[-1]==\"fe\":\n",
    "        s.remove(s[-1])\n",
    "        s[-1] = \"ves\"\n",
    "        print(\"\".join(s))\n",
    "    elif s[-1]==\"y\" and s[-2]==\"a\":\n",
    "        print((\"\".join(s)+\"s\"))\n",
    "    elif s[-1]==\"y\" and s[-2]==\"i\":\n",
    "        print((\"\".join(s)+\"s\"))\n",
    "    elif s[-1]==\"y\" and s[-2]==\"u\":\n",
    "        print((\"\".join(s)+\"s\"))\n",
    "    elif s[-1]==\"y\" and s[-2]==\"e\":\n",
    "        print((\"\".join(s)+\"s\"))\n",
    "    elif s[-1]==\"y\" and s[-2]==\"o\":\n",
    "        print((\"\".join(s)+\"s\"))\n",
    "    elif s[-1]==\"y\":\n",
    "        s[-1]=\"ies\"\n",
    "        print(\"\".join(s))\n",
    "    else:\n",
    "        print(\"\".join(s)+\"s\")\n",
    "    \n",
    "    n = n + 1"
   ]
  },
  {
   "cell_type": "code",
   "execution_count": 49,
   "metadata": {},
   "outputs": [
    {
     "data": {
      "text/plain": [
       "list"
      ]
     },
     "execution_count": 49,
     "metadata": {},
     "output_type": "execute_result"
    }
   ],
   "source": [
    "type(s)"
   ]
  },
  {
   "cell_type": "code",
   "execution_count": null,
   "metadata": {},
   "outputs": [],
   "source": [
    "a = list(\"aslhux\")"
   ]
  },
  {
   "cell_type": "code",
   "execution_count": 39,
   "metadata": {},
   "outputs": [
    {
     "data": {
      "text/plain": [
       "True"
      ]
     },
     "execution_count": 39,
     "metadata": {},
     "output_type": "execute_result"
    }
   ],
   "source": [
    "a[-2]+a[-1]==\"ux\""
   ]
  },
  {
   "cell_type": "code",
   "execution_count": null,
   "metadata": {},
   "outputs": [],
   "source": [
    "a[-2:]"
   ]
  },
  {
   "cell_type": "code",
   "execution_count": null,
   "metadata": {},
   "outputs": [],
   "source": [
    " or s[-2]+s[-1]==\"sh\" or s[-2]+s[-1]==\"ch\":"
   ]
  },
  {
   "cell_type": "code",
   "execution_count": null,
   "metadata": {},
   "outputs": [],
   "source": []
  },
  {
   "cell_type": "code",
   "execution_count": 96,
   "metadata": {},
   "outputs": [],
   "source": [
    "x = list(\"asdc\")"
   ]
  },
  {
   "cell_type": "code",
   "execution_count": 97,
   "metadata": {},
   "outputs": [
    {
     "name": "stdout",
     "output_type": "stream",
     "text": [
      "['a', 's', 'd', 'c']\n"
     ]
    }
   ],
   "source": [
    "print(x)"
   ]
  },
  {
   "cell_type": "code",
   "execution_count": 98,
   "metadata": {},
   "outputs": [
    {
     "data": {
      "text/plain": [
       "['a', 's', 'd']"
      ]
     },
     "execution_count": 98,
     "metadata": {},
     "output_type": "execute_result"
    }
   ],
   "source": [
    "x.remove(x[-1])\n",
    "x"
   ]
  },
  {
   "cell_type": "code",
   "execution_count": 101,
   "metadata": {},
   "outputs": [
    {
     "data": {
      "text/plain": [
       "True"
      ]
     },
     "execution_count": 101,
     "metadata": {},
     "output_type": "execute_result"
    }
   ],
   "source": [
    "a=1\n",
    "b=2\n",
    "a!=b"
   ]
  },
  {
   "cell_type": "markdown",
   "metadata": {},
   "source": [
    "## AtCoder"
   ]
  },
  {
   "cell_type": "code",
   "execution_count": 48,
   "metadata": {},
   "outputs": [
    {
     "name": "stdout",
     "output_type": "stream",
     "text": [
      "1\n",
      "2 3\n",
      "as\n",
      "6 as\n"
     ]
    }
   ],
   "source": [
    "a = int(input())\n",
    "b,c = (int(x) for x in input().split())\n",
    "s = str(input())\n",
    "\n",
    "print(a+b+c,s)"
   ]
  },
  {
   "cell_type": "code",
   "execution_count": 9,
   "metadata": {},
   "outputs": [
    {
     "name": "stdout",
     "output_type": "stream",
     "text": [
      "1 3\n",
      "Odd\n"
     ]
    }
   ],
   "source": [
    "a,b = (int(x) for x in input().split())\n",
    "if a*b%2 == 0:\n",
    "    print(\"Even\")\n",
    "else:\n",
    "    print(\"Odd\")"
   ]
  },
  {
   "cell_type": "code",
   "execution_count": 46,
   "metadata": {},
   "outputs": [
    {
     "name": "stdout",
     "output_type": "stream",
     "text": [
      "1279\n",
      "19\n"
     ]
    }
   ],
   "source": [
    "list = str(input())\n",
    "s = 0\n",
    "for i in range(len(list)):\n",
    "    s += int(list[i])\n",
    "print(s)"
   ]
  },
  {
   "cell_type": "code",
   "execution_count": null,
   "metadata": {},
   "outputs": [],
   "source": [
    "n = int(input())\n",
    "int_s = [int(s) for s in input().split()]\n",
    " \n",
    "output = []\n",
    "for i in range(n):\n",
    "    s = int_s[i]\n",
    "    x = True\n",
    "    count = -1\n",
    "    while x == True:\n",
    "        s = s/2\n",
    "        x = s.is_integer()\n",
    "        count += 1\n",
    "    output.append(count)\n",
    "print(min(output))"
   ]
  },
  {
   "cell_type": "code",
   "execution_count": null,
   "metadata": {},
   "outputs": [],
   "source": [
    "a = int(input())\n",
    "b = int(input())\n",
    "c = int(input())\n",
    "x = int(input())\n",
    "count = 0\n",
    "for i in range(a+1):\n",
    "    for j in range(b+1):\n",
    "        for k in range(c+1):\n",
    "            if i*500+j*100+k*50 == x:\n",
    "                count += 1\n",
    "print(count)"
   ]
  },
  {
   "cell_type": "code",
   "execution_count": null,
   "metadata": {},
   "outputs": [],
   "source": [
    "n,a,b = (int(x) for x in input().split())\n",
    "sums = 0\n",
    "for i in range(1,n+1):\n",
    "    list = str(i)\n",
    "    count = 0\n",
    "    for j in range(len(list)):\n",
    "        count += int(list[j])\n",
    "    if count >= a and count <= b:\n",
    "        sums += i\n",
    "print(sums)"
   ]
  },
  {
   "cell_type": "code",
   "execution_count": null,
   "metadata": {},
   "outputs": [],
   "source": [
    "#7 Card Game for Two\n",
    "# remove で指定した要素を削除\n",
    " \n",
    "n = int(input())\n",
    "s = [int(x) for x in input().split()]\n",
    "a = 0\n",
    "b = 0\n",
    "for i in range(n):\n",
    "    if i%2 == 0:\n",
    "        a += max(s)\n",
    "        s.remove(max(s))\n",
    "    else:\n",
    "        b += max(s)\n",
    "        s.remove(max(s))\n",
    "print(a-b)"
   ]
  },
  {
   "cell_type": "code",
   "execution_count": 371,
   "metadata": {},
   "outputs": [
    {
     "name": "stdout",
     "output_type": "stream",
     "text": [
      "3\n",
      "1\n",
      "1\n",
      "1\n",
      "1\n"
     ]
    }
   ],
   "source": [
    "#8 kagami mochi\n",
    "\n",
    "n = int(input())\n",
    "d = []\n",
    "for i in range(n):\n",
    "    di = int(input())\n",
    "    d.append(di)\n",
    "# count = 1\n",
    "# for j in range(n-1):\n",
    "#     if d[j] != d[j+1]:  # removeしちゃうとそりゃ数減るよね\n",
    "#         count += 1\n",
    "num = set(d)\n",
    "print(len(num))"
   ]
  },
  {
   "cell_type": "code",
   "execution_count": 402,
   "metadata": {},
   "outputs": [
    {
     "name": "stdout",
     "output_type": "stream",
     "text": [
      "9 45000\n",
      "4 0 5\n"
     ]
    }
   ],
   "source": [
    "#9 otoshidama\n",
    "\n",
    "n,y = (int(x) for x in input().split())\n",
    "#初期値\n",
    "a = -1\n",
    "b = -1\n",
    "c = -1\n",
    "for i in range(n+1):\n",
    "    for j in range(n+1-i):\n",
    "        k = n-i-j\n",
    "        if 10000*i+5000*j+1000*k==y:\n",
    "            a = i\n",
    "            b = j\n",
    "            c = k\n",
    "            break\n",
    "print(a, b, c)"
   ]
  },
  {
   "cell_type": "code",
   "execution_count": 453,
   "metadata": {},
   "outputs": [
    {
     "name": "stdout",
     "output_type": "stream",
     "text": [
      "dreamerasedreamereraser\n",
      "YES\n"
     ]
    }
   ],
   "source": [
    "#10 白昼夢\n",
    "\n",
    "s = str(input())\n",
    "s = s.replace(\"eraser\",\"\")\n",
    "s = s.replace(\"erase\",\"\")\n",
    "s = s.replace(\"dreamer\",\"\")\n",
    "s = s.replace(\"dream\",\"\")\n",
    "if len(s) == 0:\n",
    "    print(\"YES\")\n",
    "else:\n",
    "    print(\"NO\")"
   ]
  },
  {
   "cell_type": "code",
   "execution_count": 528,
   "metadata": {},
   "outputs": [
    {
     "name": "stdout",
     "output_type": "stream",
     "text": [
      "2\n",
      "3 1 2\n",
      "6 1 1\n",
      "Yes\n"
     ]
    }
   ],
   "source": [
    "#11 Traveling\n",
    "# 方針：座標の合計値の差が偶数（奇数）の時、時刻の差が偶数（奇数） かつ　移動できる範囲内\n",
    "\n",
    "n = int(input())\n",
    "d = [[0,0,0]]  #初期値を入れることで、n=1の時もカバー\n",
    "flag = False\n",
    "for _ in range(n):\n",
    "    l = [int(x) for x in input().split()]\n",
    "    d.append(l)\n",
    "for i in range(n):\n",
    "    flag = False\n",
    "    t_diff = d[i+1][0] - d[i][0]  #時間の差\n",
    "    csum_diff  = abs(d[i+1][1] - d[i][1]) + abs(d[i+1][2] - d[i][2]) #|x0-x1|+|y1-y2|\n",
    "    if t_diff%2 == csum_diff%2 and t_diff >= csum_diff: #偶数、奇数の一致判定\n",
    "        flag = True    #最後までTrueでいれたらok\n",
    "if flag == True:\n",
    "    print(\"Yes\")\n",
    "else:\n",
    "    print(\"No\")"
   ]
  },
  {
   "cell_type": "code",
   "execution_count": 476,
   "metadata": {},
   "outputs": [
    {
     "data": {
      "text/plain": [
       "[[1, 2, 3], [4, 5, 6]]"
      ]
     },
     "execution_count": 476,
     "metadata": {},
     "output_type": "execute_result"
    }
   ],
   "source": [
    "d"
   ]
  },
  {
   "cell_type": "code",
   "execution_count": 484,
   "metadata": {},
   "outputs": [
    {
     "data": {
      "text/plain": [
       "3"
      ]
     },
     "execution_count": 484,
     "metadata": {},
     "output_type": "execute_result"
    }
   ],
   "source": [
    "d[0][2] # numpyだと[x,y]でできるけど、、"
   ]
  },
  {
   "cell_type": "code",
   "execution_count": 486,
   "metadata": {},
   "outputs": [
    {
     "data": {
      "text/plain": [
       "array([[0, 1],\n",
       "       [2, 3]])"
      ]
     },
     "execution_count": 486,
     "metadata": {},
     "output_type": "execute_result"
    }
   ],
   "source": [
    "import numpy as np\n",
    "a = np.arange(4).reshape(2,2)\n",
    "a"
   ]
  },
  {
   "cell_type": "code",
   "execution_count": 500,
   "metadata": {},
   "outputs": [],
   "source": [
    "d = [1]"
   ]
  },
  {
   "cell_type": "code",
   "execution_count": 505,
   "metadata": {},
   "outputs": [
    {
     "name": "stdout",
     "output_type": "stream",
     "text": [
      "0\n"
     ]
    }
   ],
   "source": [
    "for i in range(1):\n",
    "    print(i)"
   ]
  },
  {
   "cell_type": "code",
   "execution_count": 509,
   "metadata": {},
   "outputs": [
    {
     "data": {
      "text/plain": [
       "0"
      ]
     },
     "execution_count": 509,
     "metadata": {},
     "output_type": "execute_result"
    }
   ],
   "source": [
    "2%2"
   ]
  },
  {
   "cell_type": "code",
   "execution_count": 525,
   "metadata": {},
   "outputs": [
    {
     "data": {
      "text/plain": [
       "1"
      ]
     },
     "execution_count": 525,
     "metadata": {},
     "output_type": "execute_result"
    }
   ],
   "source": [
    "abs(-1)"
   ]
  },
  {
   "cell_type": "markdown",
   "metadata": {},
   "source": [
    "# panasonic contest"
   ]
  },
  {
   "cell_type": "code",
   "execution_count": 538,
   "metadata": {},
   "outputs": [
    {
     "name": "stdout",
     "output_type": "stream",
     "text": [
      "6\n",
      "2\n"
     ]
    }
   ],
   "source": [
    "#1 \n",
    "mylist = [1, 1, 1, 2, 1, 2, 1, 5, 2, 2, 1, 5, 1, 2, 1, 14, 1, 5, 1, 5, 2, 2, 1, 15, 2, 2, 5, 4, 1, 4, 1, 51]\n",
    "k = int(input())\n",
    "print(mylist[k-1])"
   ]
  },
  {
   "cell_type": "code",
   "execution_count": 537,
   "metadata": {},
   "outputs": [
    {
     "data": {
      "text/plain": [
       "1"
      ]
     },
     "execution_count": 537,
     "metadata": {},
     "output_type": "execute_result"
    }
   ],
   "source": [
    "mylist[5+1]"
   ]
  },
  {
   "cell_type": "code",
   "execution_count": 551,
   "metadata": {},
   "outputs": [
    {
     "name": "stdout",
     "output_type": "stream",
     "text": [
      "5 5 \n",
      "13\n"
     ]
    }
   ],
   "source": [
    "#2\n",
    "w,h = (int(i) for i in input().split())\n",
    "if \n",
    "\n",
    "elif w%2!=0 and h%2!=0:\n",
    "    print(int(w*h/2+1))\n",
    "else:\n",
    "    print(int(w*h/2))"
   ]
  },
  {
   "cell_type": "code",
   "execution_count": 550,
   "metadata": {},
   "outputs": [
    {
     "data": {
      "text/plain": [
       "13"
      ]
     },
     "execution_count": 550,
     "metadata": {},
     "output_type": "execute_result"
    }
   ],
   "source": [
    "int(25/2+1)"
   ]
  },
  {
   "cell_type": "code",
   "execution_count": 552,
   "metadata": {},
   "outputs": [
    {
     "data": {
      "text/plain": [
       "True"
      ]
     },
     "execution_count": 552,
     "metadata": {},
     "output_type": "execute_result"
    }
   ],
   "source": [
    "5%2!=0"
   ]
  },
  {
   "cell_type": "code",
   "execution_count": 569,
   "metadata": {},
   "outputs": [
    {
     "name": "stdout",
     "output_type": "stream",
     "text": [
      "3 7\n",
      "11\n"
     ]
    }
   ],
   "source": [
    "w,h = (int(i) for i in input().split())\n",
    "if w==1 or h==1:\n",
    "    print(1)\n",
    "elif w%2!=0 and h%2!=0:\n",
    "    print(int(w*h/2+1))\n",
    "else:\n",
    "    print(int(w*h/2))"
   ]
  },
  {
   "cell_type": "code",
   "execution_count": 578,
   "metadata": {},
   "outputs": [
    {
     "name": "stdout",
     "output_type": "stream",
     "text": [
      "0 0 0\n",
      "No\n"
     ]
    }
   ],
   "source": [
    "# 3\n",
    "a,b,c = (int(i) for i in input().split())\n",
    "if c-a-b <=0:\n",
    "    print(\"No\")\n",
    "elif 4*a*b < (c-a-b)*(c-a-b):\n",
    "    print(\"Yes\")\n",
    "else:\n",
    "    print(\"No\")"
   ]
  },
  {
   "cell_type": "code",
   "execution_count": 574,
   "metadata": {},
   "outputs": [
    {
     "data": {
      "text/plain": [
       "9"
      ]
     },
     "execution_count": 574,
     "metadata": {},
     "output_type": "execute_result"
    }
   ],
   "source": [
    "3**2"
   ]
  },
  {
   "cell_type": "code",
   "execution_count": null,
   "metadata": {},
   "outputs": [],
   "source": [
    "#4\n"
   ]
  },
  {
   "cell_type": "markdown",
   "metadata": {},
   "source": [
    "- chr()は整数を文字に変換する関数\n",
    "- 65-90:大文字、97-122で小文字\n",
    "- 文字から整数値を得るのはord()"
   ]
  },
  {
   "cell_type": "code",
   "execution_count": 593,
   "metadata": {},
   "outputs": [],
   "source": [
    "alphabet = [chr(ord(\"a\")+i) for i in range(26)]"
   ]
  },
  {
   "cell_type": "code",
   "execution_count": 597,
   "metadata": {},
   "outputs": [
    {
     "name": "stdout",
     "output_type": "stream",
     "text": [
      "['a', 'b', 'c', 'd', 'e', 'f', 'g', 'h', 'i', 'j', 'k', 'l', 'm', 'n', 'o', 'p', 'q', 'r', 's', 't', 'u', 'v', 'w', 'x', 'y', 'z']\n"
     ]
    }
   ],
   "source": [
    "print(alphabet)"
   ]
  },
  {
   "cell_type": "code",
   "execution_count": 602,
   "metadata": {},
   "outputs": [
    {
     "data": {
      "text/plain": [
       "['a', 'b']"
      ]
     },
     "execution_count": 602,
     "metadata": {},
     "output_type": "execute_result"
    }
   ],
   "source": [
    "ans = [\"a\"] #答えのひとつ\n",
    "alphabet[:len(ans) + 1]  #ansに入っている数の"
   ]
  },
  {
   "cell_type": "code",
   "execution_count": 607,
   "metadata": {},
   "outputs": [
    {
     "name": "stdout",
     "output_type": "stream",
     "text": [
      "a\n",
      "b\n"
     ]
    }
   ],
   "source": [
    "for x in alphabet[:2]:\n",
    "    print(x)"
   ]
  },
  {
   "cell_type": "code",
   "execution_count": 4,
   "metadata": {},
   "outputs": [
    {
     "name": "stdout",
     "output_type": "stream",
     "text": [
      "3\n",
      "aaa\n",
      "aab\n",
      "aba\n",
      "abb\n",
      "abc\n",
      "CPU times: user 3 ms, sys: 2.45 ms, total: 5.45 ms\n",
      "Wall time: 741 ms\n"
     ]
    }
   ],
   "source": [
    "%%time\n",
    "N = int(input())\n",
    "ans_list = [\"a\"]  # 生成元の初期状態 (N = 1 の答え)\n",
    "alphabet = [chr(ord(\"a\") + i) for i in range(N)]  # 使用するアルファベット\n",
    "\n",
    "for i in range(N - 1):\n",
    "    ans_list = [ans + x for ans in ans_list for x in alphabet[:len(set(ans)) + 1]]\n",
    "\n",
    "for ans in ans_list:\n",
    "    print(ans)"
   ]
  },
  {
   "cell_type": "code",
   "execution_count": 8,
   "metadata": {},
   "outputs": [
    {
     "name": "stdout",
     "output_type": "stream",
     "text": [
      "4\n",
      "aaaa\n",
      "aaab\n",
      "aaba\n",
      "aabb\n",
      "aabc\n",
      "abaa\n",
      "abab\n",
      "abac\n",
      "abba\n",
      "abbb\n",
      "abbc\n",
      "abca\n",
      "abcb\n",
      "abcc\n",
      "abcd\n"
     ]
    }
   ],
   "source": [
    "N = int(input())\n",
    "ans_list = [\"a\"]  # 生成元の初期状態 (N = 1 の答え)\n",
    "alphabet = [chr(ord(\"a\") + i) for i in range(N)]  # 使用するアルファベット\n",
    "\n",
    "for i in range(N - 1):\n",
    "    ans_list = [ans + x for ans in ans_list for x in alphabet[:len(set(ans))+1]] # len(set(ans))だと、set(aa)は1になる\n",
    "            \n",
    "for ans in ans_list:\n",
    "    print(ans)"
   ]
  },
  {
   "cell_type": "code",
   "execution_count": 651,
   "metadata": {},
   "outputs": [],
   "source": [
    "# ans_list\n",
    "# a\n",
    "# aa,ab\n",
    "# aaa,aab,aac,aba,abb,abc"
   ]
  },
  {
   "cell_type": "code",
   "execution_count": null,
   "metadata": {},
   "outputs": [],
   "source": [
    "ans = \"aa\""
   ]
  },
  {
   "cell_type": "code",
   "execution_count": null,
   "metadata": {},
   "outputs": [],
   "source": [
    "set(ans)"
   ]
  },
  {
   "cell_type": "code",
   "execution_count": 644,
   "metadata": {},
   "outputs": [
    {
     "data": {
      "text/plain": [
       "{'a', 'b'}"
      ]
     },
     "execution_count": 644,
     "metadata": {},
     "output_type": "execute_result"
    }
   ],
   "source": [
    "ans = \"ab\"\n",
    "set(ans)"
   ]
  },
  {
   "cell_type": "code",
   "execution_count": null,
   "metadata": {},
   "outputs": [],
   "source": [
    "#5 Three Substrings"
   ]
  },
  {
   "cell_type": "markdown",
   "metadata": {},
   "source": [
    "- a,b,cの入力\n",
    "- aを基準に、b,cがaに当てはまる部分があるかみていく。\n",
    "- 当てはまる最大を見つけたらそれ以前の文字数を切り捨てていく"
   ]
  },
  {
   "cell_type": "code",
   "execution_count": 26,
   "metadata": {},
   "outputs": [
    {
     "name": "stdout",
     "output_type": "stream",
     "text": [
      "asd\n"
     ]
    }
   ],
   "source": [
    "a = str(input())\n",
    "b = str(input())\n",
    "c = str(input())\n",
    "\n",
    "a_l = len(a)\n",
    "b_l = len(b)\n",
    "c_l = len(c)\n",
    "\n",
    "\n",
    "#compare a with b\n",
    "flag = True\n",
    "for i in range(b_l):\n",
    "    b[:i] in \n"
   ]
  },
  {
   "cell_type": "code",
   "execution_count": 22,
   "metadata": {},
   "outputs": [],
   "source": [
    "a = \"apple\""
   ]
  },
  {
   "cell_type": "code",
   "execution_count": 23,
   "metadata": {},
   "outputs": [
    {
     "data": {
      "text/plain": [
       "False"
      ]
     },
     "execution_count": 23,
     "metadata": {},
     "output_type": "execute_result"
    }
   ],
   "source": [
    "\"ad\" in a"
   ]
  },
  {
   "cell_type": "code",
   "execution_count": 24,
   "metadata": {},
   "outputs": [
    {
     "data": {
      "text/plain": [
       "'ap'"
      ]
     },
     "execution_count": 24,
     "metadata": {},
     "output_type": "execute_result"
    }
   ],
   "source": [
    "a[:2]"
   ]
  },
  {
   "cell_type": "code",
   "execution_count": 25,
   "metadata": {},
   "outputs": [
    {
     "name": "stdout",
     "output_type": "stream",
     "text": [
      "True\n"
     ]
    }
   ],
   "source": [
    "if \"ap\" in a:\n",
    "    print(\"True\")"
   ]
  },
  {
   "cell_type": "code",
   "execution_count": 26,
   "metadata": {},
   "outputs": [
    {
     "data": {
      "text/plain": [
       "'bbple'"
      ]
     },
     "execution_count": 26,
     "metadata": {},
     "output_type": "execute_result"
    }
   ],
   "source": [
    "a.replace(\"ap\",\"bb\")"
   ]
  },
  {
   "cell_type": "code",
   "execution_count": 20,
   "metadata": {},
   "outputs": [
    {
     "name": "stdout",
     "output_type": "stream",
     "text": [
      "100000\n",
      "357112\n",
      "CPU times: user 764 ms, sys: 8.57 ms, total: 772 ms\n",
      "Wall time: 2.22 s\n"
     ]
    }
   ],
   "source": [
    "%%time\n",
    "k = int(input())\n",
    "l = [\"1\",\"2\",\"3\",\"4\",\"5\",\"6\",\"7\",\"8\",\"9\",\"10\"]\n",
    "n = 10\n",
    "while len(l) < k:\n",
    "    n = str(n + 1)\n",
    "    if abs(int(n[-1])-int(n[-2])) <= 1:\n",
    "        l.append(n)\n",
    "        n = int(n)\n",
    "    n = int(n)\n",
    "print(l[k-1])\n",
    "# print(len(l[:k]))"
   ]
  },
  {
   "cell_type": "code",
   "execution_count": 2,
   "metadata": {},
   "outputs": [
    {
     "name": "stdout",
     "output_type": "stream",
     "text": [
      "ARC\n",
      "ABC\n"
     ]
    }
   ],
   "source": [
    "s = str(input())\n",
    "if s == \"ARC\":\n",
    "    print(\"ABC\")\n",
    "else:\n",
    "    print(\"ARC\")"
   ]
  },
  {
   "cell_type": "code",
   "execution_count": 85,
   "metadata": {},
   "outputs": [
    {
     "name": "stdout",
     "output_type": "stream",
     "text": [
      "3 3\n",
      "1\n",
      "3\n",
      "1\n",
      "3\n",
      "1\n",
      "3\n",
      "2\n"
     ]
    }
   ],
   "source": [
    "N,K = map(int,input().split())\n",
    "N = set([int(i) for i in range(1,N+1)])\n",
    "for k in range(K):\n",
    "    d = int(input())\n",
    "    A = [int(i) for i in input().split()]\n",
    "    a = set(A)\n",
    "    N = N-a\n",
    "print(len(N))"
   ]
  },
  {
   "cell_type": "code",
   "execution_count": 80,
   "metadata": {},
   "outputs": [
    {
     "data": {
      "text/plain": [
       "{'3'}"
      ]
     },
     "execution_count": 80,
     "metadata": {},
     "output_type": "execute_result"
    }
   ],
   "source": [
    "a"
   ]
  },
  {
   "cell_type": "code",
   "execution_count": 68,
   "metadata": {},
   "outputs": [
    {
     "data": {
      "text/plain": [
       "set"
      ]
     },
     "execution_count": 68,
     "metadata": {},
     "output_type": "execute_result"
    }
   ],
   "source": [
    "type(a)"
   ]
  },
  {
   "cell_type": "code",
   "execution_count": 69,
   "metadata": {},
   "outputs": [
    {
     "data": {
      "text/plain": [
       "list"
      ]
     },
     "execution_count": 69,
     "metadata": {},
     "output_type": "execute_result"
    }
   ],
   "source": [
    "type(N)"
   ]
  },
  {
   "cell_type": "code",
   "execution_count": 62,
   "metadata": {},
   "outputs": [],
   "source": [
    "a = set(A)"
   ]
  },
  {
   "cell_type": "code",
   "execution_count": 65,
   "metadata": {},
   "outputs": [
    {
     "name": "stdout",
     "output_type": "stream",
     "text": [
      "<class 'set'>\n"
     ]
    },
    {
     "data": {
      "text/plain": [
       "{'1', '3'}"
      ]
     },
     "execution_count": 65,
     "metadata": {},
     "output_type": "execute_result"
    }
   ],
   "source": [
    "c = set({1,2,3})\n",
    "print(type(a))\n",
    "a-c"
   ]
  },
  {
   "cell_type": "code",
   "execution_count": 40,
   "metadata": {},
   "outputs": [],
   "source": [
    "A = set({1,2,3,2})\n",
    "B = set({3,4,5})"
   ]
  },
  {
   "cell_type": "code",
   "execution_count": 41,
   "metadata": {},
   "outputs": [
    {
     "data": {
      "text/plain": [
       "{4, 5}"
      ]
     },
     "execution_count": 41,
     "metadata": {},
     "output_type": "execute_result"
    }
   ],
   "source": [
    "B-A"
   ]
  },
  {
   "cell_type": "code",
   "execution_count": 37,
   "metadata": {},
   "outputs": [
    {
     "data": {
      "text/plain": [
       "True"
      ]
     },
     "execution_count": 37,
     "metadata": {},
     "output_type": "execute_result"
    }
   ],
   "source": [
    "2 in A"
   ]
  },
  {
   "cell_type": "code",
   "execution_count": 38,
   "metadata": {},
   "outputs": [],
   "source": [
    "A.remove(2)"
   ]
  },
  {
   "cell_type": "code",
   "execution_count": 39,
   "metadata": {},
   "outputs": [
    {
     "data": {
      "text/plain": [
       "{1, 3}"
      ]
     },
     "execution_count": 39,
     "metadata": {},
     "output_type": "execute_result"
    }
   ],
   "source": [
    "A"
   ]
  },
  {
   "cell_type": "code",
   "execution_count": 29,
   "metadata": {},
   "outputs": [
    {
     "name": "stdout",
     "output_type": "stream",
     "text": [
      "1 2 3 4 5\n"
     ]
    }
   ],
   "source": [
    "A = []\n",
    "A.append([i for i in input().split()])"
   ]
  },
  {
   "cell_type": "code",
   "execution_count": 30,
   "metadata": {},
   "outputs": [
    {
     "data": {
      "text/plain": [
       "[['1', '2', '3', '4', '5']]"
      ]
     },
     "execution_count": 30,
     "metadata": {},
     "output_type": "execute_result"
    }
   ],
   "source": [
    "A"
   ]
  },
  {
   "cell_type": "code",
   "execution_count": 104,
   "metadata": {},
   "outputs": [
    {
     "name": "stdout",
     "output_type": "stream",
     "text": [
      "6 5\n",
      "8 6 9 1 2 1\n",
      "1 3\n",
      "4 2\n",
      "4 3\n",
      "4 6\n",
      "4 6\n",
      "{2, 3, 5}\n"
     ]
    }
   ],
   "source": [
    "N,M = map(int ,input().split())\n",
    "H = [int(i) for i in input().split()]\n",
    "good = [int(i) for i in range(1,N+1)]\n",
    "for m in range(M):\n",
    "    A,B = [int(i) for i in input().split()]\n",
    "    if H[A-1] >= H[B-1]:\n",
    "        good = set(good) - set({B})\n",
    "    elif H[A-1] <= H[B-1]:\n",
    "        good = set(good) - set({A})\n",
    "print(len(good))"
   ]
  },
  {
   "cell_type": "code",
   "execution_count": 98,
   "metadata": {},
   "outputs": [
    {
     "data": {
      "text/plain": [
       "{1, 2, 4}"
      ]
     },
     "execution_count": 98,
     "metadata": {},
     "output_type": "execute_result"
    }
   ],
   "source": [
    "set(good) - set({3})"
   ]
  },
  {
   "cell_type": "code",
   "execution_count": 103,
   "metadata": {},
   "outputs": [
    {
     "data": {
      "text/plain": [
       "[8, 6, 9, 1, 2, 1]"
      ]
     },
     "execution_count": 103,
     "metadata": {},
     "output_type": "execute_result"
    }
   ],
   "source": [
    "H"
   ]
  },
  {
   "cell_type": "code",
   "execution_count": 106,
   "metadata": {},
   "outputs": [
    {
     "data": {
      "text/plain": [
       "16"
      ]
     },
     "execution_count": 106,
     "metadata": {},
     "output_type": "execute_result"
    }
   ],
   "source": [
    "pow(4,2)"
   ]
  },
  {
   "cell_type": "code",
   "execution_count": 134,
   "metadata": {},
   "outputs": [
    {
     "name": "stdout",
     "output_type": "stream",
     "text": [
      "33\n"
     ]
    },
    {
     "ename": "KeyboardInterrupt",
     "evalue": "",
     "output_type": "error",
     "traceback": [
      "\u001b[0;31m---------------------------------------------------------------------------\u001b[0m",
      "\u001b[0;31mKeyboardInterrupt\u001b[0m                         Traceback (most recent call last)",
      "\u001b[0;32m<ipython-input-134-6a2399f1afef>\u001b[0m in \u001b[0;36m<module>\u001b[0;34m\u001b[0m\n\u001b[1;32m      1\u001b[0m \u001b[0mX\u001b[0m \u001b[0;34m=\u001b[0m \u001b[0mint\u001b[0m\u001b[0;34m(\u001b[0m\u001b[0minput\u001b[0m\u001b[0;34m(\u001b[0m\u001b[0;34m)\u001b[0m\u001b[0;34m)\u001b[0m\u001b[0;34m\u001b[0m\u001b[0;34m\u001b[0m\u001b[0m\n\u001b[1;32m      2\u001b[0m \u001b[0;32mfor\u001b[0m \u001b[0mi\u001b[0m \u001b[0;32min\u001b[0m \u001b[0mrange\u001b[0m\u001b[0;34m(\u001b[0m\u001b[0mint\u001b[0m\u001b[0;34m(\u001b[0m\u001b[0;36m1e9\u001b[0m\u001b[0;34m)\u001b[0m\u001b[0;34m)\u001b[0m\u001b[0;34m:\u001b[0m\u001b[0;34m\u001b[0m\u001b[0;34m\u001b[0m\u001b[0m\n\u001b[0;32m----> 3\u001b[0;31m     \u001b[0mB5\u001b[0m \u001b[0;34m=\u001b[0m \u001b[0mpow\u001b[0m\u001b[0;34m(\u001b[0m\u001b[0mi\u001b[0m\u001b[0;34m,\u001b[0m\u001b[0;36m5\u001b[0m\u001b[0;34m)\u001b[0m \u001b[0;34m-\u001b[0m \u001b[0mX\u001b[0m\u001b[0;34m\u001b[0m\u001b[0;34m\u001b[0m\u001b[0m\n\u001b[0m\u001b[1;32m      4\u001b[0m     \u001b[0;32mif\u001b[0m \u001b[0mtype\u001b[0m\u001b[0;34m(\u001b[0m\u001b[0mpow\u001b[0m\u001b[0;34m(\u001b[0m\u001b[0mB5\u001b[0m\u001b[0;34m,\u001b[0m\u001b[0;36m1\u001b[0m\u001b[0;34m/\u001b[0m\u001b[0;36m5\u001b[0m\u001b[0;34m)\u001b[0m\u001b[0;34m)\u001b[0m \u001b[0;34m==\u001b[0m \u001b[0mint\u001b[0m\u001b[0;34m:\u001b[0m\u001b[0;34m\u001b[0m\u001b[0;34m\u001b[0m\u001b[0m\n\u001b[1;32m      5\u001b[0m         \u001b[0mprint\u001b[0m\u001b[0;34m(\u001b[0m\u001b[0mi\u001b[0m\u001b[0;34m,\u001b[0m\u001b[0mB\u001b[0m\u001b[0;34m)\u001b[0m\u001b[0;34m\u001b[0m\u001b[0;34m\u001b[0m\u001b[0m\n",
      "\u001b[0;31mKeyboardInterrupt\u001b[0m: "
     ]
    }
   ],
   "source": [
    "X = int(input())\n",
    "for i in range(int(1e9)):\n",
    "    B5 = pow(i,5) - X\n",
    "    if type(pow(B5,1/5)) == int:\n",
    "        print(i,B)\n",
    "        break"
   ]
  },
  {
   "cell_type": "code",
   "execution_count": 132,
   "metadata": {},
   "outputs": [
    {
     "name": "stdout",
     "output_type": "stream",
     "text": [
      "int\n"
     ]
    }
   ],
   "source": [
    "a = 1\n",
    "if type(a) == int:\n",
    "    print(\"int\")"
   ]
  },
  {
   "cell_type": "markdown",
   "metadata": {},
   "source": [
    "## atcoder 161"
   ]
  },
  {
   "cell_type": "markdown",
   "metadata": {},
   "source": [
    "d"
   ]
  },
  {
   "cell_type": "code",
   "execution_count": 25,
   "metadata": {},
   "outputs": [],
   "source": [
    "def jadge(K):\n",
    "    l = []\n",
    "    flag = True\n",
    "    for k in str(K):\n",
    "        l.append(int(k))\n",
    "    for i in range(len(l)-1):\n",
    "        if abs(l[i+1]-l[i]) > 1:\n",
    "            flag = False\n",
    "            return flag\n",
    "            break\n",
    "    if flag == True:\n",
    "        return flag"
   ]
  },
  {
   "cell_type": "code",
   "execution_count": 63,
   "metadata": {},
   "outputs": [
    {
     "name": "stdout",
     "output_type": "stream",
     "text": [
      "458\n",
      "23443\n",
      "CPU times: user 119 ms, sys: 2.36 ms, total: 121 ms\n",
      "Wall time: 2 s\n"
     ]
    }
   ],
   "source": [
    "%%time\n",
    "K = str(input())\n",
    "l = []\n",
    "i = 0\n",
    "while len(l) < int(K):\n",
    "    i += 1 \n",
    "    k = jadge(i)\n",
    "    if k == True:\n",
    "        l.append(i)\n",
    "    \n",
    "print(i)"
   ]
  },
  {
   "cell_type": "markdown",
   "metadata": {},
   "source": [
    "c"
   ]
  },
  {
   "cell_type": "code",
   "execution_count": 74,
   "metadata": {},
   "outputs": [
    {
     "name": "stdout",
     "output_type": "stream",
     "text": [
      "1000000000000000000000 1\n",
      "0\n"
     ]
    }
   ],
   "source": [
    "N,K = [int(i) for i in input().split()]\n",
    "if N%K==0:\n",
    "    print(\"0\")\n",
    "else:\n",
    "    while abs(N-K) < N:\n",
    "        N = abs(N-K)\n",
    "    print(N)"
   ]
  },
  {
   "cell_type": "markdown",
   "metadata": {},
   "source": [
    "### AtCoder166"
   ]
  },
  {
   "cell_type": "markdown",
   "metadata": {},
   "source": [
    "c"
   ]
  },
  {
   "cell_type": "code",
   "execution_count": 139,
   "metadata": {},
   "outputs": [
    {
     "name": "stdout",
     "output_type": "stream",
     "text": [
      "6 5\n",
      "8 6 9 1 2 1\n",
      "1 3\n",
      "4 2\n",
      "4 3\n",
      "4 2\n",
      "4 6\n",
      "3\n"
     ]
    }
   ],
   "source": [
    "# データ入力\n",
    "N,M = map(int,input().split())\n",
    "H = [int(i) for i in input().split()]\n",
    "\n",
    "good = [i for i in range(1,N+1)]\n",
    "\n",
    "for m in range(M):\n",
    "    # 山の経路の入力\n",
    "    a,b = [int(i) for i in input().split()]\n",
    "    good.(min(H[a-1],H[b-1]))\n",
    "\n",
    "print(len(good))"
   ]
  },
  {
   "cell_type": "code",
   "execution_count": null,
   "metadata": {},
   "outputs": [],
   "source": []
  },
  {
   "cell_type": "code",
   "execution_count": null,
   "metadata": {},
   "outputs": [],
   "source": []
  },
  {
   "cell_type": "code",
   "execution_count": null,
   "metadata": {},
   "outputs": [],
   "source": []
  },
  {
   "cell_type": "code",
   "execution_count": null,
   "metadata": {},
   "outputs": [],
   "source": []
  },
  {
   "cell_type": "code",
   "execution_count": null,
   "metadata": {},
   "outputs": [],
   "source": []
  },
  {
   "cell_type": "code",
   "execution_count": null,
   "metadata": {},
   "outputs": [],
   "source": []
  },
  {
   "cell_type": "code",
   "execution_count": null,
   "metadata": {},
   "outputs": [],
   "source": []
  }
 ],
 "metadata": {
  "kernelspec": {
   "display_name": "Python 3",
   "language": "python",
   "name": "python3"
  },
  "language_info": {
   "codemirror_mode": {
    "name": "ipython",
    "version": 3
   },
   "file_extension": ".py",
   "mimetype": "text/x-python",
   "name": "python",
   "nbconvert_exporter": "python",
   "pygments_lexer": "ipython3",
   "version": "3.7.7"
  }
 },
 "nbformat": 4,
 "nbformat_minor": 2
}
